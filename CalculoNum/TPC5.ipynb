{
  "cells": [
    {
      "cell_type": "code",
      "execution_count": 1,
      "metadata": {
        "id": "OqQP_zQplefW"
      },
      "outputs": [],
      "source": [
        "import numpy as np\n",
        "import numpy.linalg as npl"
      ]
    },
    {
      "cell_type": "markdown",
      "metadata": {
        "id": "3j3kkvDolefo"
      },
      "source": [
        "1. Jacobi\n",
        "Implementar una función que reciba una matriz $A$ y calcule la matriz de iteración de Jacobi $B_J$. Es importante no cometer la ingenuidad de aplicar np.diag($D$), donde $D$ es la matriz diagonal de $A$. La gracia del algoritmo es que invertir $D$ es fácil, de modo que no deberíamos usar un solver automático, que probablemente haga más cuentas de las necesarias. Hay dos caminos que se pueden tomar: \n",
        "\n",
        "a) pensar cómo se puede calcular $D^{-1}$ de manera sencilla, \n",
        "\n",
        "b) (mejor aún) pensar cómo se puede calcular $-D^{-1}(L+U)$ sin calcular explícitamente la matriz completa $D^{-1}$. "
      ]
    },
    {
      "cell_type": "code",
      "execution_count": 4,
      "metadata": {
        "id": "gCJOCx2slefp"
      },
      "outputs": [],
      "source": [
        "def matrizJacobi(A):\n",
        "    d = np.diag(A)\n",
        "    D = np.diag(d)\n",
        "    D_inv = np.diag(np.reciprocal(d))\n",
        "    A_triu = np.triu(A)\n",
        "    A_tril = np.tril(A)\n",
        "    L = A_tril - D\n",
        "    U = A_triu - D\n",
        "    \n",
        "    BJ = (-1) * D_inv @  (L + U) \n",
        "    return BJ"
      ]
    },
    {
      "cell_type": "markdown",
      "metadata": {
        "id": "9IaFlmMUlefr"
      },
      "source": [
        "Implementar una función que aplique el método de Jacobi para resolver un sistema de la forma $Ax=b$. El programa debe recibir como datos: la matriz $A$, el vector $b$, un dato inicial $x_0$, un número máximo de iteraciones $N$ y una tolerancia $tol$. Debe computar la matriz de Jacobi haciendo uso de la función matrizJacobi y aplicar la iteración un cierto número de veces. Se debe detener si se cumple cualquiera de las siguientes condiciones: a) se alcanza el número máximo de iteraciones $N$ o b) la diferencia (en norma 2) entre dos aproximaciones sucesivas es menor que la tolerancia $tol$. En el caso de que el programa se detenga a causa de la primera condición se debe imprimir en pantalla un aviso de que se alcanzó el número máximo de iteraciones y que, por lo tanto, no está garantizada la convergencia. Probar el programa con alguno de los ejemplos de la práctica. "
      ]
    },
    {
      "cell_type": "code",
      "execution_count": 13,
      "metadata": {
        "id": "Xt6eeOcklefs"
      },
      "outputs": [],
      "source": [
        "def jacobi(A,b,x0,N=100,tol=1e-8):\n",
        "    BJ = matrizJacobi(A) \n",
        "    d = np.diag(A)\n",
        "    D = np.diag(d)\n",
        "    D_inv = np.diag(np.reciprocal(d))\n",
        "    autovalores = np.linalg.eigvals(BJ)\n",
        "    rad_esp = np.max(np.abs(autovalores))\n",
        "    x = np.zeros( (len(x0),N+1) ) ###np.zeros(len(x0),N)   \n",
        "    x[:,0]= x0\n",
        "    for i in range(N):\n",
        "      x[:,i+1] = BJ @ x[:,i] + D_inv @ b\n",
        "      if npl.norm((x[:,i+1] - x[:,i]), ord=2) < tol:\n",
        "        print('Converge, y el número de iteraciones es', i+1)\n",
        "        break\n",
        "    else:\n",
        "        print('Se alcanzó el maximo de iteraciones')\n",
        "    print('El radio espectral es:', rad_esp)\n",
        "    return x[:,i+1]\n",
        "\n"
      ]
    },
    {
      "cell_type": "code",
      "source": [
        "A = np.arange(1.,17.).reshape((4,4))\n",
        "b = np.arange(2.,6.)\n",
        "x0 = np.arange(5.,9.)\n",
        "jacobi(A,b,x0, N=5, tol =.05)\n"
      ],
      "metadata": {
        "colab": {
          "base_uri": "https://localhost:8080/"
        },
        "id": "lj1thqy0TL7F",
        "outputId": "1a302aaa-4471-49be-d61f-9125f4ee5e50"
      },
      "execution_count": 6,
      "outputs": [
        {
          "output_type": "stream",
          "name": "stdout",
          "text": [
            "Se alcanzó el maximo de iteraciones\n",
            "El radio espectral es: 3.9361900689860168\n"
          ]
        },
        {
          "output_type": "execute_result",
          "data": {
            "text/plain": [
              "array([-11863.91127181,  -5593.53168044,  -5022.58808123,  -4807.85923152])"
            ]
          },
          "metadata": {},
          "execution_count": 6
        }
      ]
    },
    {
      "cell_type": "markdown",
      "metadata": {
        "id": "nYfDSadHlefu"
      },
      "source": [
        "2. Sabemos que un método iterativo converge si el radio espectral de la matriz de iteración es menor que $1$. Esto se puede chequear usando el comando np.linalg.eig o el comando np.linalg.eigvals que devuelven los autovalores de una matriz (el primero devuelve también los autovectores). Generar varias matrices $A$, construir la matriz de iteración de Jacobi para cada $A$ y verificar si el radio espectral resulta menor que $1$. Cuando esto se cumpla, resolver un sistema usando la función $jacobi$ y confirmar que converge. Chequear que la convergencia sea más rápida (requiera menos iteraciones) cuanto menor sea el radio espectral. "
      ]
    },
    {
      "cell_type": "code",
      "source": [
        "#Ejemplo donde no converge\n",
        "A_3 = np.matrix([[1., 2.], [5., 3.]])\n",
        "J3 = matrizJacobi(A_3)\n",
        "autovalores3 = np.linalg.eigvals(J3)\n",
        "autovalores3"
      ],
      "metadata": {
        "colab": {
          "base_uri": "https://localhost:8080/"
        },
        "id": "NQKIhnO7GJjV",
        "outputId": "567ab3f4-9351-4518-effa-486ecf90cf28"
      },
      "execution_count": 7,
      "outputs": [
        {
          "output_type": "execute_result",
          "data": {
            "text/plain": [
              "array([ 1.82574186, -1.82574186])"
            ]
          },
          "metadata": {},
          "execution_count": 7
        }
      ]
    },
    {
      "cell_type": "code",
      "source": [
        "x0 = (1, 2)\n",
        "b = (2, 1)\n",
        "k = jacobi(A_3, b, x0, N=50, tol=1e-08)\n",
        "k"
      ],
      "metadata": {
        "colab": {
          "base_uri": "https://localhost:8080/"
        },
        "id": "6OVKLRuHGiXF",
        "outputId": "3f41d37a-4508-4665-f5b6-935451d8f9a2"
      },
      "execution_count": 8,
      "outputs": [
        {
          "output_type": "stream",
          "name": "stdout",
          "text": [
            "Se alcanzó el maximo de iteraciones\n",
            "El radio espectral es: 1.8257418583505538\n"
          ]
        },
        {
          "output_type": "execute_result",
          "data": {
            "text/plain": [
              "array([1.85465561e+13, 8.43025277e+12])"
            ]
          },
          "metadata": {},
          "execution_count": 8
        }
      ]
    },
    {
      "cell_type": "code",
      "source": [
        "#Ejemplo donde converge\n",
        "A_2 = np.matrix([[2., 1.], [3., 6.]])\n",
        "J2 = matrizJacobi(A_2)\n",
        "autovalores2 = np.linalg.eigvals(J2)\n",
        "autovalores2\n"
      ],
      "metadata": {
        "colab": {
          "base_uri": "https://localhost:8080/"
        },
        "id": "2XQy0Q_Ywjpt",
        "outputId": "9e0ddf91-173b-408a-f1ca-6c8de6b150cc"
      },
      "execution_count": 14,
      "outputs": [
        {
          "output_type": "execute_result",
          "data": {
            "text/plain": [
              "array([ 0.5, -0.5])"
            ]
          },
          "metadata": {},
          "execution_count": 14
        }
      ]
    },
    {
      "cell_type": "code",
      "source": [
        "\n",
        "x0 = (1, 2)\n",
        "b = (2, 1)\n",
        "l = jacobi(A_2, b, x0, N=50, tol=.004)\n",
        "l"
      ],
      "metadata": {
        "colab": {
          "base_uri": "https://localhost:8080/"
        },
        "id": "WnUb43SJxDXe",
        "outputId": "f1005f46-4e3c-4c20-9711-64c44bee0306"
      },
      "execution_count": 15,
      "outputs": [
        {
          "output_type": "stream",
          "name": "stdout",
          "text": [
            "Converge, y el número de iteraciones es 11\n",
            "El radio espectral es: 0.5000000000000001\n"
          ]
        },
        {
          "output_type": "execute_result",
          "data": {
            "text/plain": [
              "array([ 1.22102865, -0.44433594])"
            ]
          },
          "metadata": {},
          "execution_count": 15
        }
      ]
    },
    {
      "cell_type": "code",
      "source": [
        "#Ejemplo donde converge y el radio espectral es menor\n",
        "A_4 = np.matrix([[2., 1.], [1., 6.]])\n",
        "J4 = matrizJacobi(A_4)\n",
        "autovalores4 = np.linalg.eigvals(J4)\n",
        "autovalores4"
      ],
      "metadata": {
        "colab": {
          "base_uri": "https://localhost:8080/"
        },
        "id": "9dty9MYpAgxW",
        "outputId": "ced746f5-2a40-468f-e01c-ea253890b007"
      },
      "execution_count": 11,
      "outputs": [
        {
          "output_type": "execute_result",
          "data": {
            "text/plain": [
              "array([ 0.28867513, -0.28867513])"
            ]
          },
          "metadata": {},
          "execution_count": 11
        }
      ]
    },
    {
      "cell_type": "code",
      "source": [
        "x0 = (1, 2)\n",
        "b = (2, 1)\n",
        "r = jacobi(A_4, b, x0, N=50, tol=.004)\n",
        "r"
      ],
      "metadata": {
        "colab": {
          "base_uri": "https://localhost:8080/"
        },
        "id": "2qmlGBVZQ7wz",
        "outputId": "1dfd52da-81f7-470e-b846-c4f6e1aa4db9"
      },
      "execution_count": 12,
      "outputs": [
        {
          "output_type": "stream",
          "name": "stdout",
          "text": [
            "Converge, y el numero de iteraciones es 7\n",
            "El radio espectral es: 0.28867513459481287\n"
          ]
        },
        {
          "output_type": "execute_result",
          "data": {
            "text/plain": [
              "array([0.9994213, 0.       ])"
            ]
          },
          "metadata": {},
          "execution_count": 12
        }
      ]
    }
  ],
  "metadata": {
    "interpreter": {
      "hash": "b0fa6594d8f4cbf19f97940f81e996739fb7646882a419484c72d19e05852a7e"
    },
    "kernelspec": {
      "display_name": "Python 3.9.7 64-bit",
      "name": "python3"
    },
    "language_info": {
      "codemirror_mode": {
        "name": "ipython",
        "version": 3
      },
      "file_extension": ".py",
      "mimetype": "text/x-python",
      "name": "python",
      "nbconvert_exporter": "python",
      "pygments_lexer": "ipython3",
      "version": "3.9.7"
    },
    "orig_nbformat": 4,
    "colab": {
      "name": "TPC5.ipynb",
      "provenance": [],
      "collapsed_sections": []
    }
  },
  "nbformat": 4,
  "nbformat_minor": 0
}